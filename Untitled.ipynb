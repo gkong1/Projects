{
 "cells": [
  {
   "cell_type": "code",
   "execution_count": 1,
   "metadata": {},
   "outputs": [
    {
     "name": "stdout",
     "output_type": "stream",
     "text": [
      "pygame 1.9.6\n",
      "Hello from the pygame community. https://www.pygame.org/contribute.html\n"
     ]
    }
   ],
   "source": [
    "\"\"\"\n",
    "This module is used to pull individual sprites from sprite sheets.\n",
    "\"\"\"\n",
    "\n",
    "import pygame as pg\n",
    "import xml.etree.ElementTree as ET\n",
    "import constants\n",
    "\n",
    "class Spritesheet(object):\n",
    "    # utility class for loading and parsing Spritesheet\n",
    "    # Pass in the filename of the sprite sheet\n",
    "    def __init__(self, filename):\n",
    "        # Load the sprite sheet\n",
    "        self.spritesheet = pg.image.load(filename).convert_alpha()\n",
    "        if data_file:\n",
    "            tree = ET.parse(data_file)\n",
    "            self.map = {}\n",
    "            for node in tree.iter():\n",
    "                name = note.attrib.get('name')\n",
    "                self.map[name] = {}\n",
    "                self.map[name]['x'] = int(node.attrib.get('x'))\n",
    "                self.map[name]['y'] = int(node.attrib.get('y'))\n",
    "                self.map[name]['width'] = int(node.attrib.get('width'))\n",
    "                self.map[name]['height'] = int(node.attrib.get('height'))\n",
    "\n",
    "    def get_image_rect(self, x, y, width, height):\n",
    "        # Grab image out of larger spreadsheet\n",
    "#        image = pg.Surface((width, height))\n",
    "#        image.blit(self.spritesheet, (0,0), (x, y, width, height))\n",
    "        # Assuming white works as transparent\n",
    "#        mage.set_colorkey(constants.White)\n",
    "        return self.spritesheet.subsurface(pg.Rect(x,y,width, height))\n",
    "\n",
    "    def get_image_name(self, name):\n",
    "        rect = pg.Rect(self.map[name]['x'], self.map[name]['y'], self.map[name]['width'], self.map[name]['height'])\n",
    "        return self.spritesheet.subsurface(rect)\n"
   ]
  },
  {
   "cell_type": "code",
   "execution_count": 5,
   "metadata": {},
   "outputs": [
    {
     "ename": "error",
     "evalue": "No video mode has been set",
     "output_type": "error",
     "traceback": [
      "\u001b[0;31m---------------------------------------------------------------------------\u001b[0m",
      "\u001b[0;31merror\u001b[0m                                     Traceback (most recent call last)",
      "\u001b[0;32m<ipython-input-5-84de7d0d1817>\u001b[0m in \u001b[0;36m<module>\u001b[0;34m\u001b[0m\n\u001b[1;32m      1\u001b[0m \u001b[0mpg\u001b[0m\u001b[0;34m.\u001b[0m\u001b[0mdisplay\u001b[0m\u001b[0;34m.\u001b[0m\u001b[0minit\u001b[0m\u001b[0;34m(\u001b[0m\u001b[0;34m)\u001b[0m\u001b[0;34m\u001b[0m\u001b[0;34m\u001b[0m\u001b[0m\n\u001b[0;32m----> 2\u001b[0;31m \u001b[0mpopuri_sprites\u001b[0m \u001b[0;34m=\u001b[0m \u001b[0mSpritesheet\u001b[0m\u001b[0;34m(\u001b[0m\u001b[0;34m\"Popuri.png\"\u001b[0m\u001b[0;34m)\u001b[0m\u001b[0;34m\u001b[0m\u001b[0;34m\u001b[0m\u001b[0m\n\u001b[0m\u001b[1;32m      3\u001b[0m \u001b[0;34m\u001b[0m\u001b[0m\n\u001b[1;32m      4\u001b[0m \u001b[0mimg_pop_1\u001b[0m \u001b[0;34m=\u001b[0m \u001b[0mpopuri_sprites\u001b[0m\u001b[0;34m.\u001b[0m\u001b[0mget_image_name\u001b[0m\u001b[0;34m(\u001b[0m\u001b[0;34m\"walkDown_2.png\"\u001b[0m\u001b[0;34m)\u001b[0m\u001b[0;34m\u001b[0m\u001b[0;34m\u001b[0m\u001b[0m\n",
      "\u001b[0;32m<ipython-input-1-d5491d762811>\u001b[0m in \u001b[0;36m__init__\u001b[0;34m(self, filename)\u001b[0m\n\u001b[1;32m     12\u001b[0m     \u001b[0;32mdef\u001b[0m \u001b[0m__init__\u001b[0m\u001b[0;34m(\u001b[0m\u001b[0mself\u001b[0m\u001b[0;34m,\u001b[0m \u001b[0mfilename\u001b[0m\u001b[0;34m)\u001b[0m\u001b[0;34m:\u001b[0m\u001b[0;34m\u001b[0m\u001b[0;34m\u001b[0m\u001b[0m\n\u001b[1;32m     13\u001b[0m         \u001b[0;31m# Load the sprite sheet\u001b[0m\u001b[0;34m\u001b[0m\u001b[0;34m\u001b[0m\u001b[0;34m\u001b[0m\u001b[0m\n\u001b[0;32m---> 14\u001b[0;31m         \u001b[0mself\u001b[0m\u001b[0;34m.\u001b[0m\u001b[0mspritesheet\u001b[0m \u001b[0;34m=\u001b[0m \u001b[0mpg\u001b[0m\u001b[0;34m.\u001b[0m\u001b[0mimage\u001b[0m\u001b[0;34m.\u001b[0m\u001b[0mload\u001b[0m\u001b[0;34m(\u001b[0m\u001b[0mfilename\u001b[0m\u001b[0;34m)\u001b[0m\u001b[0;34m.\u001b[0m\u001b[0mconvert_alpha\u001b[0m\u001b[0;34m(\u001b[0m\u001b[0;34m)\u001b[0m\u001b[0;34m\u001b[0m\u001b[0;34m\u001b[0m\u001b[0m\n\u001b[0m\u001b[1;32m     15\u001b[0m         \u001b[0;32mif\u001b[0m \u001b[0mdata_file\u001b[0m\u001b[0;34m:\u001b[0m\u001b[0;34m\u001b[0m\u001b[0;34m\u001b[0m\u001b[0m\n\u001b[1;32m     16\u001b[0m             \u001b[0mtree\u001b[0m \u001b[0;34m=\u001b[0m \u001b[0mET\u001b[0m\u001b[0;34m.\u001b[0m\u001b[0mparse\u001b[0m\u001b[0;34m(\u001b[0m\u001b[0mdata_file\u001b[0m\u001b[0;34m)\u001b[0m\u001b[0;34m\u001b[0m\u001b[0;34m\u001b[0m\u001b[0m\n",
      "\u001b[0;31merror\u001b[0m: No video mode has been set"
     ]
    }
   ],
   "source": [
    "pg.display.init()\n",
    "popuri_sprites = Spritesheet(\"Popuri.png\")\n",
    "\n",
    "img_pop_1 = popuri_sprites.get_image_name(\"walkDown_2.png\")"
   ]
  },
  {
   "cell_type": "code",
   "execution_count": null,
   "metadata": {},
   "outputs": [],
   "source": []
  }
 ],
 "metadata": {
  "kernelspec": {
   "display_name": "Python 3",
   "language": "python",
   "name": "python3"
  },
  "language_info": {
   "codemirror_mode": {
    "name": "ipython",
    "version": 3
   },
   "file_extension": ".py",
   "mimetype": "text/x-python",
   "name": "python",
   "nbconvert_exporter": "python",
   "pygments_lexer": "ipython3",
   "version": "3.7.3"
  }
 },
 "nbformat": 4,
 "nbformat_minor": 2
}
